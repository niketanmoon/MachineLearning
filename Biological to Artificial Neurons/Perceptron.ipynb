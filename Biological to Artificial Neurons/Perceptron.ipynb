{
 "cells": [
  {
   "cell_type": "markdown",
   "id": "9b7c7b91",
   "metadata": {},
   "source": [
    "# Importing libraries"
   ]
  },
  {
   "cell_type": "code",
   "execution_count": 1,
   "id": "3f5a6962",
   "metadata": {},
   "outputs": [],
   "source": [
    "import numpy as np"
   ]
  },
  {
   "cell_type": "code",
   "execution_count": 2,
   "id": "eb19cdfa",
   "metadata": {},
   "outputs": [],
   "source": [
    "from sklearn.datasets import load_iris\n",
    "from sklearn.linear_model import Perceptron"
   ]
  },
  {
   "cell_type": "markdown",
   "id": "1cae50a7",
   "metadata": {},
   "source": [
    "# Loading dataset"
   ]
  },
  {
   "cell_type": "code",
   "execution_count": 4,
   "id": "ae9d7898",
   "metadata": {},
   "outputs": [],
   "source": [
    "iris = load_iris()"
   ]
  },
  {
   "cell_type": "markdown",
   "id": "51d00017",
   "metadata": {},
   "source": [
    "# Taking independent and dependent variable"
   ]
  },
  {
   "cell_type": "code",
   "execution_count": 8,
   "id": "24450c78",
   "metadata": {},
   "outputs": [],
   "source": [
    "X = iris.data[:, (2, 3)]\n",
    "y = (iris.target == 0).astype(int)"
   ]
  },
  {
   "cell_type": "markdown",
   "id": "7a2b9076",
   "metadata": {},
   "source": [
    "# Training the dataset on Perceptron model\n",
    "- Perceptron is a simple ANN architecture. It is composed of a single layer of TLU (Threshold Logic Unit) or LTU (Linear Threshold Unit)"
   ]
  },
  {
   "cell_type": "code",
   "execution_count": 5,
   "id": "69c7000d",
   "metadata": {},
   "outputs": [
    {
     "data": {
      "text/plain": [
       "Perceptron()"
      ]
     },
     "execution_count": 5,
     "metadata": {},
     "output_type": "execute_result"
    }
   ],
   "source": [
    "per_clf = Perceptron()\n",
    "per_clf.fit(X, y)"
   ]
  },
  {
   "cell_type": "markdown",
   "id": "1c54aa22",
   "metadata": {},
   "source": [
    "# M"
   ]
  },
  {
   "cell_type": "code",
   "execution_count": 6,
   "id": "a66b12cb",
   "metadata": {},
   "outputs": [],
   "source": [
    "y_pred = per_clf.predict([[2, 0.5]])"
   ]
  },
  {
   "cell_type": "code",
   "execution_count": 7,
   "id": "05f66473",
   "metadata": {},
   "outputs": [
    {
     "data": {
      "text/plain": [
       "array([0])"
      ]
     },
     "execution_count": 7,
     "metadata": {},
     "output_type": "execute_result"
    }
   ],
   "source": [
    "y_pred"
   ]
  },
  {
   "cell_type": "code",
   "execution_count": null,
   "id": "95b5b98a",
   "metadata": {},
   "outputs": [],
   "source": []
  }
 ],
 "metadata": {
  "kernelspec": {
   "display_name": "Python 3 (ipykernel)",
   "language": "python",
   "name": "python3"
  },
  "language_info": {
   "codemirror_mode": {
    "name": "ipython",
    "version": 3
   },
   "file_extension": ".py",
   "mimetype": "text/x-python",
   "name": "python",
   "nbconvert_exporter": "python",
   "pygments_lexer": "ipython3",
   "version": "3.7.13"
  }
 },
 "nbformat": 4,
 "nbformat_minor": 5
}
