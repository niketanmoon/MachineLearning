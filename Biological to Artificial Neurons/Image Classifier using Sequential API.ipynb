{
 "cells": [
  {
   "cell_type": "code",
   "execution_count": 1,
   "id": "3aa5b928",
   "metadata": {},
   "outputs": [],
   "source": [
    "import tensorflow as tf"
   ]
  },
  {
   "cell_type": "code",
   "execution_count": 2,
   "id": "8028d39b",
   "metadata": {},
   "outputs": [
    {
     "data": {
      "text/plain": [
       "'2.8.0'"
      ]
     },
     "execution_count": 2,
     "metadata": {},
     "output_type": "execute_result"
    }
   ],
   "source": [
    "tf.__version__"
   ]
  },
  {
   "cell_type": "code",
   "execution_count": 3,
   "id": "ee5a2b2d",
   "metadata": {},
   "outputs": [],
   "source": [
    "from tensorflow import keras"
   ]
  },
  {
   "cell_type": "code",
   "execution_count": 4,
   "id": "a575d489",
   "metadata": {},
   "outputs": [
    {
     "data": {
      "text/plain": [
       "'2.8.0'"
      ]
     },
     "execution_count": 4,
     "metadata": {},
     "output_type": "execute_result"
    }
   ],
   "source": [
    "keras.__version__"
   ]
  },
  {
   "cell_type": "markdown",
   "id": "cfd425a8",
   "metadata": {},
   "source": [
    "## Using keras to load the Dataset\n",
    "- Keras provide some utility functions to fetch and load common datasets, including MNIST, Fashion MNIST, the original California housing dataset\n",
    "\n",
    "### Lets load Fashion MNIST"
   ]
  },
  {
   "cell_type": "code",
   "execution_count": 5,
   "id": "315977eb",
   "metadata": {},
   "outputs": [],
   "source": [
    "fashion_mnist = keras.datasets.fashion_mnist"
   ]
  },
  {
   "cell_type": "code",
   "execution_count": 6,
   "id": "99ff23e3",
   "metadata": {},
   "outputs": [],
   "source": [
    "(X_train_full, y_train_full), (X_test, y_test) = fashion_mnist.load_data()"
   ]
  },
  {
   "cell_type": "markdown",
   "id": "6fa54166",
   "metadata": {},
   "source": [
    "# Information about the data\n",
    "- When loading MNIST or Fashion MNIST using Keras rather than Scikit learn, every image is represented as 28*28 array rather than a 1D array of size 784.\n",
    "- pixels are represented as integers from 0 to 255 rather than floats"
   ]
  },
  {
   "cell_type": "code",
   "execution_count": 7,
   "id": "2f00d700",
   "metadata": {},
   "outputs": [
    {
     "data": {
      "text/plain": [
       "(60000, 28, 28)"
      ]
     },
     "execution_count": 7,
     "metadata": {},
     "output_type": "execute_result"
    }
   ],
   "source": [
    "X_train_full.shape"
   ]
  },
  {
   "cell_type": "code",
   "execution_count": 8,
   "id": "f92e25b2",
   "metadata": {},
   "outputs": [
    {
     "data": {
      "text/plain": [
       "dtype('uint8')"
      ]
     },
     "execution_count": 8,
     "metadata": {},
     "output_type": "execute_result"
    }
   ],
   "source": [
    "X_train_full.dtype"
   ]
  },
  {
   "cell_type": "markdown",
   "id": "5fd90ad7",
   "metadata": {},
   "source": [
    "## Scaling the train data and creating valid dataset\n",
    "- We have already splitted data in train and test set now its time to split in valid dataset\n",
    "- We are also performing scaling on train and valid dataset to scale it from 0 to 1 by dividing it by 255.0 and also converting them to float"
   ]
  },
  {
   "cell_type": "code",
   "execution_count": 9,
   "id": "e9c1a371",
   "metadata": {},
   "outputs": [],
   "source": [
    "X_valid, X_train = X_train_full[:5000]/255.0, X_train_full[5000:]/255.0\n",
    "y_valid, y_train = y_train_full[:5000], y_train_full[5000:]"
   ]
  },
  {
   "cell_type": "markdown",
   "id": "bc9ebfd4",
   "metadata": {},
   "source": [
    "### List of class names"
   ]
  },
  {
   "cell_type": "code",
   "execution_count": 10,
   "id": "04773b36",
   "metadata": {},
   "outputs": [],
   "source": [
    "class_names = [\"T-shirt/top\", \"Trouser\", \"Pullover\", \"Dress\", \"Coat\", \"Sandal\", \"Shirt\", \"Sneaker\", \"Bag\", \"Ankle boot\"]"
   ]
  },
  {
   "cell_type": "code",
   "execution_count": 11,
   "id": "875b6692",
   "metadata": {},
   "outputs": [
    {
     "data": {
      "text/plain": [
       "'Coat'"
      ]
     },
     "execution_count": 11,
     "metadata": {},
     "output_type": "execute_result"
    }
   ],
   "source": [
    "class_names[y_train[0]]"
   ]
  },
  {
   "cell_type": "markdown",
   "id": "2293a84b",
   "metadata": {},
   "source": [
    "# Creating the model using the Sequential API"
   ]
  },
  {
   "cell_type": "markdown",
   "id": "cbebe462",
   "metadata": {},
   "source": [
    "## Classification MLP with two hidden layers"
   ]
  },
  {
   "cell_type": "code",
   "execution_count": 12,
   "id": "b72ccde1",
   "metadata": {},
   "outputs": [
    {
     "name": "stdout",
     "output_type": "stream",
     "text": [
      "Metal device set to: Apple M1\n"
     ]
    },
    {
     "name": "stderr",
     "output_type": "stream",
     "text": [
      "2022-04-01 15:27:46.445717: I tensorflow/core/common_runtime/pluggable_device/pluggable_device_factory.cc:305] Could not identify NUMA node of platform GPU ID 0, defaulting to 0. Your kernel may not have been built with NUMA support.\n",
      "2022-04-01 15:27:46.445789: I tensorflow/core/common_runtime/pluggable_device/pluggable_device_factory.cc:271] Created TensorFlow device (/job:localhost/replica:0/task:0/device:GPU:0 with 0 MB memory) -> physical PluggableDevice (device: 0, name: METAL, pci bus id: <undefined>)\n"
     ]
    }
   ],
   "source": [
    "model = keras.models.Sequential()\n",
    "model.add(keras.layers.Flatten(input_shape=[28, 28]))\n",
    "model.add(keras.layers.Dense(300, activation=\"relu\"))\n",
    "model.add(keras.layers.Dense(100, activation=\"relu\"))\n",
    "model.add(keras.layers.Dense(10, activation=\"softmax\"))"
   ]
  },
  {
   "cell_type": "markdown",
   "id": "fb3f6b92",
   "metadata": {},
   "source": [
    "### Let go through this code line by line\n",
    "- The first line creates a Sequential model. This is the simplest kind of Keras model, for neural networks that are just composed of a single stack of layers, connected sequentially. This is called the sequential API\n",
    "- Next, we build the first layer and add it to the model. It is a `Flatten` layer whose role is simply to convert each input image into a 1D array: if it receives input data X, it computes X.reshape(-1, 1). This layer does not have any parameters, it is just there to do some simple preprocessing. Since it is the first layer in the model, you should specify the input_shape: this does not include the batch size, only the shape of the instances. Alternatively, you could add a `keras.layers.InputLayer` as the first layer, setting `shape=[28,28]`.\n",
    "- Next we add a Dense hidden layer with 300 neurons. It will use the ReLU activa‐ tion function. Each Dense layer manages its own weight matrix, containing all the connection weights between the neurons and their inputs. It also manages a vector of bias terms (one per neuron).\n",
    "- Next we add a second Dense hidden layer with 100 neurons, also using the ReLU activation function.\n",
    "- Finally, we add a Dense output layer with 10 neurons (one per class), using the softmax activation function (because the classes are exclusive)."
   ]
  },
  {
   "cell_type": "markdown",
   "id": "4a2100e7",
   "metadata": {},
   "source": [
    "### Another way to do the above code\n",
    "`model = keras.models.Sequential([\n",
    "        keras.layers.Flatten(input_shape=[28, 28]),\n",
    "        keras.layers.Dense(300, activation=\"relu\"),\n",
    "        keras.layers.Dense(100, activation=\"relu\"),\n",
    "        keras.layers.Dense(10, activation=\"softmax\")\n",
    "])`"
   ]
  },
  {
   "cell_type": "markdown",
   "id": "0ff0bcd5",
   "metadata": {},
   "source": [
    "## Summary of the model layers"
   ]
  },
  {
   "cell_type": "code",
   "execution_count": 13,
   "id": "b90d8fcf",
   "metadata": {},
   "outputs": [
    {
     "name": "stdout",
     "output_type": "stream",
     "text": [
      "Model: \"sequential\"\n",
      "_________________________________________________________________\n",
      " Layer (type)                Output Shape              Param #   \n",
      "=================================================================\n",
      " flatten (Flatten)           (None, 784)               0         \n",
      "                                                                 \n",
      " dense (Dense)               (None, 300)               235500    \n",
      "                                                                 \n",
      " dense_1 (Dense)             (None, 100)               30100     \n",
      "                                                                 \n",
      " dense_2 (Dense)             (None, 10)                1010      \n",
      "                                                                 \n",
      "=================================================================\n",
      "Total params: 266,610\n",
      "Trainable params: 266,610\n",
      "Non-trainable params: 0\n",
      "_________________________________________________________________\n"
     ]
    }
   ],
   "source": [
    "model.summary()"
   ]
  },
  {
   "cell_type": "markdown",
   "id": "e942545b",
   "metadata": {},
   "source": [
    "- Note that Dense layers often have a lot of parameters. For example, the first hidden layer has 784 × 300 connection weights, plus 300 bias terms, which adds up to 235,500 parameters! This gives the model quite a lot of flexibility to fit the training data, but it also means that the model runs the risk of overfitting, especially when you do not have a lot of training data."
   ]
  },
  {
   "cell_type": "markdown",
   "id": "1b3142dc",
   "metadata": {},
   "source": [
    "## A list of model layers and accessing it"
   ]
  },
  {
   "cell_type": "code",
   "execution_count": 14,
   "id": "a2dc0103",
   "metadata": {},
   "outputs": [
    {
     "data": {
      "text/plain": [
       "[<keras.layers.core.flatten.Flatten at 0x12a4cc760>,\n",
       " <keras.layers.core.dense.Dense at 0x12a4cce20>,\n",
       " <keras.layers.core.dense.Dense at 0x12a5491c0>,\n",
       " <keras.layers.core.dense.Dense at 0x12a5f7160>]"
      ]
     },
     "execution_count": 14,
     "metadata": {},
     "output_type": "execute_result"
    }
   ],
   "source": [
    "model.layers"
   ]
  },
  {
   "cell_type": "code",
   "execution_count": 15,
   "id": "5dea3519",
   "metadata": {},
   "outputs": [
    {
     "data": {
      "text/plain": [
       "'dense'"
      ]
     },
     "execution_count": 15,
     "metadata": {},
     "output_type": "execute_result"
    }
   ],
   "source": [
    "model.layers[1].name"
   ]
  },
  {
   "cell_type": "code",
   "execution_count": 16,
   "id": "abb256a5",
   "metadata": {},
   "outputs": [
    {
     "data": {
      "text/plain": [
       "'dense'"
      ]
     },
     "execution_count": 16,
     "metadata": {},
     "output_type": "execute_result"
    }
   ],
   "source": [
    "model.get_layer('dense').name"
   ]
  },
  {
   "cell_type": "markdown",
   "id": "d7404da7",
   "metadata": {},
   "source": [
    "## Getting the weights and biases for a layer"
   ]
  },
  {
   "cell_type": "code",
   "execution_count": 17,
   "id": "843c49e2",
   "metadata": {},
   "outputs": [],
   "source": [
    "hidden1 = model.layers[1]\n",
    "weights, biases = hidden1.get_weights()"
   ]
  },
  {
   "cell_type": "code",
   "execution_count": 18,
   "id": "fee34d60",
   "metadata": {},
   "outputs": [
    {
     "data": {
      "text/plain": [
       "array([[ 0.00585803,  0.06344549,  0.04122774, ..., -0.05374366,\n",
       "        -0.01570103,  0.00206   ],\n",
       "       [ 0.06813245,  0.07389125, -0.02793618, ...,  0.07149798,\n",
       "        -0.06081992,  0.01793503],\n",
       "       [ 0.04543528, -0.02525124,  0.01265869, ..., -0.0643852 ,\n",
       "         0.02267198,  0.0205352 ],\n",
       "       ...,\n",
       "       [ 0.06121957,  0.01455253,  0.05839023, ..., -0.03170189,\n",
       "        -0.03819613,  0.03052379],\n",
       "       [ 0.02232098,  0.03583453,  0.0131295 , ..., -0.00052706,\n",
       "         0.07325165, -0.05244085],\n",
       "       [ 0.05371958,  0.00914665, -0.04542506, ...,  0.01266382,\n",
       "        -0.03666344,  0.03274027]], dtype=float32)"
      ]
     },
     "execution_count": 18,
     "metadata": {},
     "output_type": "execute_result"
    }
   ],
   "source": [
    "weights"
   ]
  },
  {
   "cell_type": "code",
   "execution_count": 19,
   "id": "8f586830",
   "metadata": {},
   "outputs": [
    {
     "data": {
      "text/plain": [
       "(784, 300)"
      ]
     },
     "execution_count": 19,
     "metadata": {},
     "output_type": "execute_result"
    }
   ],
   "source": [
    "weights.shape"
   ]
  },
  {
   "cell_type": "code",
   "execution_count": 20,
   "id": "eaa73a12",
   "metadata": {},
   "outputs": [
    {
     "data": {
      "text/plain": [
       "array([0., 0., 0., 0., 0., 0., 0., 0., 0., 0., 0., 0., 0., 0., 0., 0., 0.,\n",
       "       0., 0., 0., 0., 0., 0., 0., 0., 0., 0., 0., 0., 0., 0., 0., 0., 0.,\n",
       "       0., 0., 0., 0., 0., 0., 0., 0., 0., 0., 0., 0., 0., 0., 0., 0., 0.,\n",
       "       0., 0., 0., 0., 0., 0., 0., 0., 0., 0., 0., 0., 0., 0., 0., 0., 0.,\n",
       "       0., 0., 0., 0., 0., 0., 0., 0., 0., 0., 0., 0., 0., 0., 0., 0., 0.,\n",
       "       0., 0., 0., 0., 0., 0., 0., 0., 0., 0., 0., 0., 0., 0., 0., 0., 0.,\n",
       "       0., 0., 0., 0., 0., 0., 0., 0., 0., 0., 0., 0., 0., 0., 0., 0., 0.,\n",
       "       0., 0., 0., 0., 0., 0., 0., 0., 0., 0., 0., 0., 0., 0., 0., 0., 0.,\n",
       "       0., 0., 0., 0., 0., 0., 0., 0., 0., 0., 0., 0., 0., 0., 0., 0., 0.,\n",
       "       0., 0., 0., 0., 0., 0., 0., 0., 0., 0., 0., 0., 0., 0., 0., 0., 0.,\n",
       "       0., 0., 0., 0., 0., 0., 0., 0., 0., 0., 0., 0., 0., 0., 0., 0., 0.,\n",
       "       0., 0., 0., 0., 0., 0., 0., 0., 0., 0., 0., 0., 0., 0., 0., 0., 0.,\n",
       "       0., 0., 0., 0., 0., 0., 0., 0., 0., 0., 0., 0., 0., 0., 0., 0., 0.,\n",
       "       0., 0., 0., 0., 0., 0., 0., 0., 0., 0., 0., 0., 0., 0., 0., 0., 0.,\n",
       "       0., 0., 0., 0., 0., 0., 0., 0., 0., 0., 0., 0., 0., 0., 0., 0., 0.,\n",
       "       0., 0., 0., 0., 0., 0., 0., 0., 0., 0., 0., 0., 0., 0., 0., 0., 0.,\n",
       "       0., 0., 0., 0., 0., 0., 0., 0., 0., 0., 0., 0., 0., 0., 0., 0., 0.,\n",
       "       0., 0., 0., 0., 0., 0., 0., 0., 0., 0., 0.], dtype=float32)"
      ]
     },
     "execution_count": 20,
     "metadata": {},
     "output_type": "execute_result"
    }
   ],
   "source": [
    "biases"
   ]
  },
  {
   "cell_type": "code",
   "execution_count": 21,
   "id": "8d6ccd66",
   "metadata": {},
   "outputs": [
    {
     "data": {
      "text/plain": [
       "(300,)"
      ]
     },
     "execution_count": 21,
     "metadata": {},
     "output_type": "execute_result"
    }
   ],
   "source": [
    "biases.shape"
   ]
  },
  {
   "cell_type": "markdown",
   "id": "0c7711cd",
   "metadata": {},
   "source": [
    "# Compiling the model"
   ]
  },
  {
   "cell_type": "code",
   "execution_count": 22,
   "id": "d7bc8733",
   "metadata": {},
   "outputs": [],
   "source": [
    "model.compile(\n",
    "    loss=\"sparse_categorical_crossentropy\",\n",
    "    optimizer=\"sgd\",\n",
    "    metrics=[\"accuracy\"]\n",
    ")"
   ]
  },
  {
   "cell_type": "markdown",
   "id": "68502494",
   "metadata": {},
   "source": [
    "- First, we use the `\"sparse_categorical_crossentropy\"` loss because we have `sparse labels (i.e., for each instance there is just a target class index, from 0 to 9 in this case)`, and the classes are exclusive. If instead we had one target probability per class for each instance (such as one-hot vectors, e.g. [0., 0., 0., 1., 0., 0., 0., 0., 0., 0.] to represent class 3), then we would need to use the `\"categorical_crossentropy\"` loss instead. \n",
    "- If we were doing `binary classification` (with one or more binary labels), then we would use the `\"sigmoid\"`(i.e., logistic) activation function in the output layer instead of the `\"softmax\"` activation function, and we would use the `\"binary_crossentropy\"` loss"
   ]
  },
  {
   "cell_type": "markdown",
   "id": "597c4473",
   "metadata": {},
   "source": [
    "## Training and Evaluating the model"
   ]
  },
  {
   "cell_type": "code",
   "execution_count": 23,
   "id": "91c524db",
   "metadata": {},
   "outputs": [
    {
     "name": "stdout",
     "output_type": "stream",
     "text": [
      "Epoch 1/30\n",
      "   1/1719 [..............................] - ETA: 5:18 - loss: 2.3705 - accuracy: 0.0625"
     ]
    },
    {
     "name": "stderr",
     "output_type": "stream",
     "text": [
      "2022-04-01 15:27:46.701553: W tensorflow/core/platform/profile_utils/cpu_utils.cc:128] Failed to get CPU frequency: 0 Hz\n",
      "2022-04-01 15:27:46.820225: I tensorflow/core/grappler/optimizers/custom_graph_optimizer_registry.cc:113] Plugin optimizer for device_type GPU is enabled.\n"
     ]
    },
    {
     "name": "stdout",
     "output_type": "stream",
     "text": [
      "1719/1719 [==============================] - ETA: 0s - loss: 0.7112 - accuracy: 0.7663"
     ]
    },
    {
     "name": "stderr",
     "output_type": "stream",
     "text": [
      "2022-04-01 15:27:55.188275: I tensorflow/core/grappler/optimizers/custom_graph_optimizer_registry.cc:113] Plugin optimizer for device_type GPU is enabled.\n"
     ]
    },
    {
     "name": "stdout",
     "output_type": "stream",
     "text": [
      "1719/1719 [==============================] - 9s 5ms/step - loss: 0.7112 - accuracy: 0.7663 - val_loss: 0.4992 - val_accuracy: 0.8336\n",
      "Epoch 2/30\n",
      "1719/1719 [==============================] - 8s 5ms/step - loss: 0.4866 - accuracy: 0.8310 - val_loss: 0.4522 - val_accuracy: 0.8460\n",
      "Epoch 3/30\n",
      "1719/1719 [==============================] - 8s 5ms/step - loss: 0.4450 - accuracy: 0.8444 - val_loss: 0.4184 - val_accuracy: 0.8564\n",
      "Epoch 4/30\n",
      "1719/1719 [==============================] - 8s 5ms/step - loss: 0.4180 - accuracy: 0.8539 - val_loss: 0.4035 - val_accuracy: 0.8610\n",
      "Epoch 5/30\n",
      "1719/1719 [==============================] - 8s 5ms/step - loss: 0.3986 - accuracy: 0.8609 - val_loss: 0.3872 - val_accuracy: 0.8658\n",
      "Epoch 6/30\n",
      "1719/1719 [==============================] - 8s 5ms/step - loss: 0.3823 - accuracy: 0.8657 - val_loss: 0.3714 - val_accuracy: 0.8720\n",
      "Epoch 7/30\n",
      "1719/1719 [==============================] - 8s 5ms/step - loss: 0.3683 - accuracy: 0.8700 - val_loss: 0.3574 - val_accuracy: 0.8718\n",
      "Epoch 8/30\n",
      "1719/1719 [==============================] - 8s 5ms/step - loss: 0.3566 - accuracy: 0.8736 - val_loss: 0.3580 - val_accuracy: 0.8704\n",
      "Epoch 9/30\n",
      "1719/1719 [==============================] - 8s 5ms/step - loss: 0.3469 - accuracy: 0.8778 - val_loss: 0.3498 - val_accuracy: 0.8742\n",
      "Epoch 10/30\n",
      "1719/1719 [==============================] - 8s 5ms/step - loss: 0.3371 - accuracy: 0.8801 - val_loss: 0.3475 - val_accuracy: 0.8780\n",
      "Epoch 11/30\n",
      "1719/1719 [==============================] - 8s 5ms/step - loss: 0.3290 - accuracy: 0.8828 - val_loss: 0.3469 - val_accuracy: 0.8746\n",
      "Epoch 12/30\n",
      "1719/1719 [==============================] - 8s 5ms/step - loss: 0.3198 - accuracy: 0.8861 - val_loss: 0.3482 - val_accuracy: 0.8760\n",
      "Epoch 13/30\n",
      "1719/1719 [==============================] - 8s 5ms/step - loss: 0.3135 - accuracy: 0.8878 - val_loss: 0.3239 - val_accuracy: 0.8858\n",
      "Epoch 14/30\n",
      "1719/1719 [==============================] - 8s 5ms/step - loss: 0.3061 - accuracy: 0.8902 - val_loss: 0.3313 - val_accuracy: 0.8820\n",
      "Epoch 15/30\n",
      "1719/1719 [==============================] - 8s 5ms/step - loss: 0.2994 - accuracy: 0.8933 - val_loss: 0.3366 - val_accuracy: 0.8768\n",
      "Epoch 16/30\n",
      "1719/1719 [==============================] - 8s 5ms/step - loss: 0.2929 - accuracy: 0.8941 - val_loss: 0.3145 - val_accuracy: 0.8882\n",
      "Epoch 17/30\n",
      "1719/1719 [==============================] - 8s 5ms/step - loss: 0.2867 - accuracy: 0.8967 - val_loss: 0.3119 - val_accuracy: 0.8862\n",
      "Epoch 18/30\n",
      "1719/1719 [==============================] - 8s 5ms/step - loss: 0.2808 - accuracy: 0.8986 - val_loss: 0.3304 - val_accuracy: 0.8848\n",
      "Epoch 19/30\n",
      "1719/1719 [==============================] - 8s 5ms/step - loss: 0.2760 - accuracy: 0.9001 - val_loss: 0.3167 - val_accuracy: 0.8860\n",
      "Epoch 20/30\n",
      "1719/1719 [==============================] - 8s 5ms/step - loss: 0.2707 - accuracy: 0.9025 - val_loss: 0.3077 - val_accuracy: 0.8884\n",
      "Epoch 21/30\n",
      "1719/1719 [==============================] - 8s 5ms/step - loss: 0.2648 - accuracy: 0.9043 - val_loss: 0.3009 - val_accuracy: 0.8944\n",
      "Epoch 22/30\n",
      "1719/1719 [==============================] - 8s 5ms/step - loss: 0.2605 - accuracy: 0.9065 - val_loss: 0.3027 - val_accuracy: 0.8922\n",
      "Epoch 23/30\n",
      "1719/1719 [==============================] - 8s 5ms/step - loss: 0.2563 - accuracy: 0.9075 - val_loss: 0.3109 - val_accuracy: 0.8882\n",
      "Epoch 24/30\n",
      "1719/1719 [==============================] - 8s 5ms/step - loss: 0.2512 - accuracy: 0.9093 - val_loss: 0.2974 - val_accuracy: 0.8938\n",
      "Epoch 25/30\n",
      "1719/1719 [==============================] - 8s 5ms/step - loss: 0.2482 - accuracy: 0.9117 - val_loss: 0.3063 - val_accuracy: 0.8902\n",
      "Epoch 26/30\n",
      "1719/1719 [==============================] - 8s 5ms/step - loss: 0.2429 - accuracy: 0.9121 - val_loss: 0.2999 - val_accuracy: 0.8886\n",
      "Epoch 27/30\n",
      "1719/1719 [==============================] - 8s 5ms/step - loss: 0.2387 - accuracy: 0.9141 - val_loss: 0.2964 - val_accuracy: 0.8922\n",
      "Epoch 28/30\n",
      "1719/1719 [==============================] - 8s 5ms/step - loss: 0.2342 - accuracy: 0.9161 - val_loss: 0.2947 - val_accuracy: 0.8966\n",
      "Epoch 29/30\n",
      "1719/1719 [==============================] - 8s 5ms/step - loss: 0.2309 - accuracy: 0.9170 - val_loss: 0.2936 - val_accuracy: 0.8954\n",
      "Epoch 30/30\n",
      "1719/1719 [==============================] - 8s 5ms/step - loss: 0.2270 - accuracy: 0.9177 - val_loss: 0.2911 - val_accuracy: 0.8932\n"
     ]
    }
   ],
   "source": [
    "history = model.fit(X_train, y_train, epochs=30, validation_data=(X_valid, y_valid))"
   ]
  },
  {
   "cell_type": "markdown",
   "id": "37e75da0",
   "metadata": {},
   "source": [
    "- The fit() method returns a History object containing the training `parameters (history.params)`, `the list of epochs it went through (history.epoch)`, and most importantly `a dictionary (history.history)` containing the loss and extra metrics it measured at the end of each epoch on the training set and on the validation set "
   ]
  },
  {
   "cell_type": "markdown",
   "id": "bfb8869f",
   "metadata": {},
   "source": [
    "## Plotting the history"
   ]
  },
  {
   "cell_type": "code",
   "execution_count": 29,
   "id": "6bbc3b5c",
   "metadata": {},
   "outputs": [
    {
     "data": {
      "image/png": "[encoded data removed]",
      "text/plain": [
       "<Figure size 576x360 with 1 Axes>"
      ]
     },
     "metadata": {
      "needs_background": "light"
     },
     "output_type": "display_data"
    }
   ],
   "source": [
    "import pandas as pd\n",
    "import matplotlib.pyplot as plt\n",
    "pd.DataFrame(history.history).plot(figsize=(8, 5))\n",
    "plt.grid(True)\n",
    "plt.gca().set_ylim(0, 1) # limits y axis range to [0-1]\n",
    "plt.show()"
   ]
  },
  {
   "cell_type": "markdown",
   "id": "dfef6be3",
   "metadata": {},
   "source": [
    "# Evaluating it on the test set\n",
    "- Once you are satisfied with your model’s validation accuracy, you should evaluate it on the test set to estimate the generalization error before you deploy the model to production. You can easily do this using the evaluate() method."
   ]
  },
  {
   "cell_type": "code",
   "execution_count": 30,
   "id": "64a2ca13",
   "metadata": {},
   "outputs": [
    {
     "name": "stdout",
     "output_type": "stream",
     "text": [
      " 41/313 [==>...........................] - ETA: 1s - loss: 49.7685 - accuracy: 0.8628"
     ]
    },
    {
     "name": "stderr",
     "output_type": "stream",
     "text": [
      "2022-04-01 15:36:26.659830: I tensorflow/core/grappler/optimizers/custom_graph_optimizer_registry.cc:113] Plugin optimizer for device_type GPU is enabled.\n"
     ]
    },
    {
     "name": "stdout",
     "output_type": "stream",
     "text": [
      "313/313 [==============================] - 1s 4ms/step - loss: 56.6820 - accuracy: 0.8548\n"
     ]
    },
    {
     "data": {
      "text/plain": [
       "[56.682044982910156, 0.8548000454902649]"
      ]
     },
     "execution_count": 30,
     "metadata": {},
     "output_type": "execute_result"
    }
   ],
   "source": [
    "model.evaluate(X_test, y_test)"
   ]
  },
  {
   "cell_type": "markdown",
   "id": "f9eb98d4",
   "metadata": {},
   "source": [
    "# Making predictions"
   ]
  },
  {
   "cell_type": "code",
   "execution_count": 31,
   "id": "3ed84160",
   "metadata": {},
   "outputs": [
    {
     "name": "stderr",
     "output_type": "stream",
     "text": [
      "2022-04-01 15:39:35.429865: I tensorflow/core/grappler/optimizers/custom_graph_optimizer_registry.cc:113] Plugin optimizer for device_type GPU is enabled.\n"
     ]
    },
    {
     "data": {
      "text/plain": [
       "array([[0., 0., 0., 0., 0., 0., 0., 0., 0., 1.],\n",
       "       [0., 0., 1., 0., 0., 0., 0., 0., 0., 0.],\n",
       "       [0., 1., 0., 0., 0., 0., 0., 0., 0., 0.]], dtype=float32)"
      ]
     },
     "execution_count": 31,
     "metadata": {},
     "output_type": "execute_result"
    }
   ],
   "source": [
    "X_new = X_test[:3]\n",
    "y_proba = model.predict(X_new)\n",
    "y_proba.round(2)"
   ]
  },
  {
   "cell_type": "markdown",
   "id": "23618269",
   "metadata": {},
   "source": [
    "- this tells you which class has how much probability.\n",
    "- If you want to directly know the class of max probability we can use `np.argmax` function"
   ]
  },
  {
   "cell_type": "code",
   "execution_count": 34,
   "id": "895bcb1e",
   "metadata": {},
   "outputs": [
    {
     "data": {
      "text/plain": [
       "array([9, 2, 1])"
      ]
     },
     "execution_count": 34,
     "metadata": {},
     "output_type": "execute_result"
    }
   ],
   "source": [
    "import numpy as np\n",
    "y_pred = np.argmax(model.predict(X_new), axis=1)\n",
    "y_pred"
   ]
  },
  {
   "cell_type": "code",
   "execution_count": 35,
   "id": "0fc22ca5",
   "metadata": {},
   "outputs": [
    {
     "data": {
      "text/plain": [
       "array(['Ankle boot', 'Pullover', 'Trouser'], dtype='<U11')"
      ]
     },
     "execution_count": 35,
     "metadata": {},
     "output_type": "execute_result"
    }
   ],
   "source": [
    "np.array(class_names)[y_pred]"
   ]
  },
  {
   "cell_type": "code",
   "execution_count": 36,
   "id": "76af339c",
   "metadata": {},
   "outputs": [],
   "source": [
    "y_new = y_test[:3]"
   ]
  },
  {
   "cell_type": "code",
   "execution_count": 37,
   "id": "ebe59fed",
   "metadata": {},
   "outputs": [
    {
     "data": {
      "text/plain": [
       "array([9, 2, 1], dtype=uint8)"
      ]
     },
     "execution_count": 37,
     "metadata": {},
     "output_type": "execute_result"
    }
   ],
   "source": [
    "y_new"
   ]
  },
  {
   "cell_type": "markdown",
   "id": "7a506de6",
   "metadata": {},
   "source": [
    "- This means that y_pred and y_test is accurate  i.e our model predicted the object correctly."
   ]
  }
 ],
 "metadata": {
  "kernelspec": {
   "display_name": "Python 3 (ipykernel)",
   "language": "python",
   "name": "python3"
  },
  "language_info": {
   "codemirror_mode": {
    "name": "ipython",
    "version": 3
   },
   "file_extension": ".py",
   "mimetype": "text/x-python",
   "name": "python",
   "nbconvert_exporter": "python",
   "pygments_lexer": "ipython3",
   "version": "3.9.10"
  }
 },
 "nbformat": 4,
 "nbformat_minor": 5
}
