{
 "cells": [
  {
   "cell_type": "markdown",
   "id": "ad5918b7",
   "metadata": {},
   "source": [
    "#  <div style=\"color:white; background-color:blue; padding:20px; text-align:center; border-radius:10px\">Importing the libraries</div>"
   ]
  },
  {
   "cell_type": "code",
   "execution_count": 1,
   "id": "2046300f",
   "metadata": {},
   "outputs": [],
   "source": [
    "import warnings\n",
    "warnings.filterwarnings(\"ignore\")\n",
    "import numpy as np\n",
    "import pandas as pd\n",
    "import matplotlib as mpl\n",
    "import matplotlib.pyplot as plt\n",
    "from sklearn.datasets import fetch_openml"
   ]
  },
  {
   "cell_type": "markdown",
   "id": "6cc34357",
   "metadata": {},
   "source": [
    "#  <div style=\"color:white; background-color:blue; padding:20px; text-align:center; border-radius:10px\">Loading the dataset</div>"
   ]
  },
  {
   "cell_type": "code",
   "execution_count": 2,
   "id": "f059cb25",
   "metadata": {},
   "outputs": [
    {
     "data": {
      "text/plain": [
       "dict_keys(['data', 'target', 'frame', 'categories', 'feature_names', 'target_names', 'DESCR', 'details', 'url'])"
      ]
     },
     "execution_count": 2,
     "metadata": {},
     "output_type": "execute_result"
    }
   ],
   "source": [
    "mnist = fetch_openml(\"mnist_784\", version=1, as_frame=False)\n",
    "mnist.keys()"
   ]
  },
  {
   "cell_type": "markdown",
   "id": "5bd9dac4",
   "metadata": {},
   "source": [
    "#  <div style=\"color:white; background-color:blue; padding:20px; text-align:center; border-radius:10px\">Getting the data into predictors and labels</div>"
   ]
  },
  {
   "cell_type": "code",
   "execution_count": 3,
   "id": "4ffffc25",
   "metadata": {},
   "outputs": [],
   "source": [
    "X, y = mnist.get(\"data\"), mnist.get(\"target\")"
   ]
  },
  {
   "cell_type": "code",
   "execution_count": 4,
   "id": "4ce724c0",
   "metadata": {},
   "outputs": [
    {
     "name": "stdout",
     "output_type": "stream",
     "text": [
      "(70000, 784)\n",
      "(70000,)\n"
     ]
    }
   ],
   "source": [
    "print(X.shape)\n",
    "print(y.shape)"
   ]
  },
  {
   "cell_type": "code",
   "execution_count": 5,
   "id": "760664db",
   "metadata": {},
   "outputs": [
    {
     "data": {
      "image/png": "[encoded data removed]",
      "text/plain": [
       "<Figure size 432x288 with 1 Axes>"
      ]
     },
     "metadata": {
      "needs_background": "light"
     },
     "output_type": "display_data"
    }
   ],
   "source": [
    "some_digit = X[0]\n",
    "some_digit_image = some_digit.reshape(28, 28)\n",
    "\n",
    "plt.imshow(some_digit_image, cmap=mpl.cm.binary, interpolation=\"nearest\")\n",
    "plt.axis(\"off\")\n",
    "plt.show()"
   ]
  },
  {
   "cell_type": "code",
   "execution_count": 6,
   "id": "40f88131",
   "metadata": {},
   "outputs": [],
   "source": [
    "# Converting the values inside labels to int\n",
    "y = y.astype(int)"
   ]
  },
  {
   "cell_type": "code",
   "execution_count": 7,
   "id": "37021ca6",
   "metadata": {},
   "outputs": [
    {
     "data": {
      "text/plain": [
       "5"
      ]
     },
     "execution_count": 7,
     "metadata": {},
     "output_type": "execute_result"
    }
   ],
   "source": [
    "y[0]"
   ]
  },
  {
   "cell_type": "markdown",
   "id": "58ab0cc5",
   "metadata": {},
   "source": [
    "#  <div style=\"color:white; background-color:blue; padding:20px; text-align:center; border-radius:10px\">Separating into training set and test set</div>"
   ]
  },
  {
   "cell_type": "code",
   "execution_count": 8,
   "id": "5f61dce6",
   "metadata": {},
   "outputs": [],
   "source": [
    "X_train, X_test, y_train, y_test = X[:60000], X[60000:], y[:60000], y[60000:]"
   ]
  },
  {
   "cell_type": "markdown",
   "id": "ce895d35",
   "metadata": {},
   "source": [
    "#  <div style=\"color:white; background-color:blue; padding:20px; text-align:center; border-radius:10px\">Training a binary classifier</div>"
   ]
  },
  {
   "cell_type": "code",
   "execution_count": 9,
   "id": "aa172833",
   "metadata": {},
   "outputs": [],
   "source": [
    "# only to detect 5\n",
    "y_train_5 = (y_train==5)\n",
    "y_test_5 = (y_test==5)"
   ]
  },
  {
   "cell_type": "markdown",
   "id": "eb0769c3",
   "metadata": {},
   "source": [
    "#  <div style=\"color:white; background-color:blue; padding:20px; text-align:center; border-radius:10px\">Training the model for detecting 5</div>"
   ]
  },
  {
   "cell_type": "code",
   "execution_count": 10,
   "id": "5d98dc54",
   "metadata": {},
   "outputs": [
    {
     "name": "stdout",
     "output_type": "stream",
     "text": [
      "CPU times: user 12.8 s, sys: 91.7 ms, total: 12.9 s\n",
      "Wall time: 12.9 s\n"
     ]
    },
    {
     "data": {
      "text/plain": [
       "SGDClassifier(random_state=42)"
      ]
     },
     "execution_count": 10,
     "metadata": {},
     "output_type": "execute_result"
    }
   ],
   "source": [
    "%%time\n",
    "from sklearn.linear_model import SGDClassifier\n",
    "clf = SGDClassifier(random_state=42)\n",
    "clf.fit(X_train, y_train_5)"
   ]
  },
  {
   "cell_type": "markdown",
   "id": "c7daf74f",
   "metadata": {},
   "source": [
    "#  <div style=\"color:white; background-color:blue; padding:20px; text-align:center; border-radius:10px\">Predict the value 5</div>"
   ]
  },
  {
   "cell_type": "code",
   "execution_count": 11,
   "id": "1d4a6d59",
   "metadata": {},
   "outputs": [
    {
     "data": {
      "text/plain": [
       "True"
      ]
     },
     "execution_count": 11,
     "metadata": {},
     "output_type": "execute_result"
    }
   ],
   "source": [
    "clf.predict([some_digit])[0]"
   ]
  },
  {
   "cell_type": "markdown",
   "id": "cf86296f",
   "metadata": {},
   "source": [
    "<span style=\"color:red\">This means that our model predicted value correctly</span>"
   ]
  },
  {
   "cell_type": "markdown",
   "id": "8903868d",
   "metadata": {},
   "source": [
    "#  <div style=\"color:white; background-color:blue; padding:20px; text-align:center; border-radius:10px\">Performance Measures</div>"
   ]
  },
  {
   "cell_type": "markdown",
   "id": "d72b9bd5",
   "metadata": {},
   "source": [
    "## <div style=\"color:white; background-color:blue; padding:20px; text-align:left; border-radius:10px\">Measuring Accuracy Using Cross Validation</div>"
   ]
  },
  {
   "cell_type": "code",
   "execution_count": 13,
   "id": "2cee9a8e",
   "metadata": {},
   "outputs": [
    {
     "data": {
      "text/plain": [
       "array([0.95035, 0.96035, 0.9604 ])"
      ]
     },
     "execution_count": 13,
     "metadata": {},
     "output_type": "execute_result"
    }
   ],
   "source": [
    "from sklearn.model_selection import cross_val_score\n",
    "cross_val_score(clf, X_train, y_train_5, cv=3, scoring=\"accuracy\")"
   ]
  },
  {
   "cell_type": "markdown",
   "id": "55bfcbc8",
   "metadata": {},
   "source": [
    "- <span style=\"color:red\">Over 90% accuracy but if you observe closely you will get that only 10% of the y_train_5 is a 5.</span>\n",
    "- <span style=\"color:red\">So if the model predicts not 5 for everycase then there is 90% chance that the model is correct. Hence we get so much accuracy</span>\n",
    "- **<span style=\"color:red\">This is why we dont use cross_val_score much</span>**"
   ]
  },
  {
   "cell_type": "markdown",
   "id": "3a4a3315",
   "metadata": {},
   "source": [
    "## <div style=\"color:white; background-color:blue; padding:20px; text-align:left; border-radius:10px\">Confusion Matrix</div>"
   ]
  },
  {
   "cell_type": "code",
   "execution_count": null,
   "id": "8267eca3",
   "metadata": {},
   "outputs": [],
   "source": []
  }
 ],
 "metadata": {
  "kernelspec": {
   "display_name": "Python 3 (ipykernel)",
   "language": "python",
   "name": "python3"
  },
  "language_info": {
   "codemirror_mode": {
    "name": "ipython",
    "version": 3
   },
   "file_extension": ".py",
   "mimetype": "text/x-python",
   "name": "python",
   "nbconvert_exporter": "python",
   "pygments_lexer": "ipython3",
   "version": "3.9.10"
  }
 },
 "nbformat": 4,
 "nbformat_minor": 5
}
