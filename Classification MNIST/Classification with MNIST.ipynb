{
 "cells": [
  {
   "cell_type": "markdown",
   "id": "ad5918b7",
   "metadata": {},
   "source": [
    "#  <div style=\"color:white; background-color:blue; padding:20px; text-align:center; border-radius:10px\">Importing the libraries</div>"
   ]
  },
  {
   "cell_type": "code",
   "execution_count": 1,
   "id": "2046300f",
   "metadata": {},
   "outputs": [],
   "source": [
    "import warnings\n",
    "warnings.filterwarnings(\"ignore\")\n",
    "import numpy as np\n",
    "import pandas as pd\n",
    "import matplotlib as mpl\n",
    "import matplotlib.pyplot as plt\n",
    "from sklearn.datasets import fetch_openml"
   ]
  },
  {
   "cell_type": "markdown",
   "id": "6cc34357",
   "metadata": {},
   "source": [
    "#  <div style=\"color:white; background-color:blue; padding:20px; text-align:center; border-radius:10px\">Loading the dataset</div>"
   ]
  },
  {
   "cell_type": "code",
   "execution_count": 2,
   "id": "f059cb25",
   "metadata": {},
   "outputs": [
    {
     "data": {
      "text/plain": [
       "dict_keys(['data', 'target', 'frame', 'categories', 'feature_names', 'target_names', 'DESCR', 'details', 'url'])"
      ]
     },
     "execution_count": 2,
     "metadata": {},
     "output_type": "execute_result"
    }
   ],
   "source": [
    "mnist = fetch_openml(\"mnist_784\", version=1, as_frame=False)\n",
    "mnist.keys()"
   ]
  },
  {
   "cell_type": "markdown",
   "id": "5bd9dac4",
   "metadata": {},
   "source": [
    "#  <div style=\"color:white; background-color:blue; padding:20px; text-align:center; border-radius:10px\">Getting the data into predictors and labels</div>"
   ]
  },
  {
   "cell_type": "code",
   "execution_count": 3,
   "id": "4ffffc25",
   "metadata": {},
   "outputs": [],
   "source": [
    "X, y = mnist.get(\"data\"), mnist.get(\"target\")"
   ]
  },
  {
   "cell_type": "code",
   "execution_count": 4,
   "id": "4ce724c0",
   "metadata": {},
   "outputs": [
    {
     "name": "stdout",
     "output_type": "stream",
     "text": [
      "(70000, 784)\n",
      "(70000,)\n"
     ]
    }
   ],
   "source": [
    "print(X.shape)\n",
    "print(y.shape)"
   ]
  },
  {
   "cell_type": "code",
   "execution_count": 5,
   "id": "760664db",
   "metadata": {},
   "outputs": [
    {
     "data": {
      "image/png": "[encoded data removed]",
      "text/plain": [
       "<Figure size 432x288 with 1 Axes>"
      ]
     },
     "metadata": {
      "needs_background": "light"
     },
     "output_type": "display_data"
    }
   ],
   "source": [
    "some_digit = X[0]\n",
    "some_digit_image = some_digit.reshape(28, 28)\n",
    "\n",
    "plt.imshow(some_digit_image, cmap=mpl.cm.binary, interpolation=\"nearest\")\n",
    "plt.axis(\"off\")\n",
    "plt.show()"
   ]
  },
  {
   "cell_type": "code",
   "execution_count": 6,
   "id": "40f88131",
   "metadata": {},
   "outputs": [],
   "source": [
    "# Converting the values inside labels to int\n",
    "y = y.astype(int)"
   ]
  },
  {
   "cell_type": "code",
   "execution_count": 7,
   "id": "37021ca6",
   "metadata": {},
   "outputs": [
    {
     "data": {
      "text/plain": [
       "5"
      ]
     },
     "execution_count": 7,
     "metadata": {},
     "output_type": "execute_result"
    }
   ],
   "source": [
    "y[0]"
   ]
  },
  {
   "cell_type": "markdown",
   "id": "58ab0cc5",
   "metadata": {},
   "source": [
    "#  <div style=\"color:white; background-color:blue; padding:20px; text-align:center; border-radius:10px\">Separating into training set and test set</div>"
   ]
  },
  {
   "cell_type": "code",
   "execution_count": 8,
   "id": "5f61dce6",
   "metadata": {},
   "outputs": [],
   "source": [
    "X_train, X_test, y_train, y_test = X[:60000], X[60000:], y[:60000], y[60000:]"
   ]
  },
  {
   "cell_type": "markdown",
   "id": "ce895d35",
   "metadata": {},
   "source": [
    "#  <div style=\"color:white; background-color:blue; padding:20px; text-align:center; border-radius:10px\">Training a binary classifier</div>"
   ]
  },
  {
   "cell_type": "code",
   "execution_count": 9,
   "id": "aa172833",
   "metadata": {},
   "outputs": [],
   "source": [
    "# only to detect 5\n",
    "y_train_5 = (y_train==5)\n",
    "y_test_5 = (y_test==5)"
   ]
  },
  {
   "cell_type": "markdown",
   "id": "eb0769c3",
   "metadata": {},
   "source": [
    "#  <div style=\"color:white; background-color:blue; padding:20px; text-align:center; border-radius:10px\">Training the model for detecting 5</div>"
   ]
  },
  {
   "cell_type": "code",
   "execution_count": 10,
   "id": "5d98dc54",
   "metadata": {},
   "outputs": [
    {
     "name": "stdout",
     "output_type": "stream",
     "text": [
      "CPU times: user 13.1 s, sys: 162 ms, total: 13.2 s\n",
      "Wall time: 13 s\n"
     ]
    },
    {
     "data": {
      "text/plain": [
       "SGDClassifier(random_state=42)"
      ]
     },
     "execution_count": 10,
     "metadata": {},
     "output_type": "execute_result"
    }
   ],
   "source": [
    "%%time\n",
    "from sklearn.linear_model import SGDClassifier\n",
    "clf = SGDClassifier(n_splits=3, shuffle=True, random_state=42)\n",
    "clf.fit(X_train, y_train_5)"
   ]
  },
  {
   "cell_type": "markdown",
   "id": "c7daf74f",
   "metadata": {},
   "source": [
    "#  <div style=\"color:white; background-color:blue; padding:20px; text-align:center; border-radius:10px\">Predict the value 5</div>"
   ]
  },
  {
   "cell_type": "code",
   "execution_count": 11,
   "id": "1d4a6d59",
   "metadata": {},
   "outputs": [
    {
     "data": {
      "text/plain": [
       "True"
      ]
     },
     "execution_count": 11,
     "metadata": {},
     "output_type": "execute_result"
    }
   ],
   "source": [
    "clf.predict([some_digit])[0]"
   ]
  },
  {
   "cell_type": "markdown",
   "id": "cf86296f",
   "metadata": {},
   "source": [
    "<span style=\"color:red\">This means that our model predicted value correctly</span>"
   ]
  },
  {
   "cell_type": "markdown",
   "id": "8903868d",
   "metadata": {},
   "source": [
    "#  <div style=\"color:white; background-color:blue; padding:20px; text-align:center; border-radius:10px\">Performance Measures</div>"
   ]
  },
  {
   "cell_type": "markdown",
   "id": "d72b9bd5",
   "metadata": {},
   "source": [
    "## <div style=\"color:white; background-color:blue; padding:20px; text-align:left; border-radius:10px\">Measuring Accuracy Using Cross Validation</div>"
   ]
  },
  {
   "cell_type": "code",
   "execution_count": 12,
   "id": "2cee9a8e",
   "metadata": {},
   "outputs": [
    {
     "data": {
      "text/plain": [
       "array([0.95035, 0.96035, 0.9604 ])"
      ]
     },
     "execution_count": 12,
     "metadata": {},
     "output_type": "execute_result"
    }
   ],
   "source": [
    "from sklearn.model_selection import cross_val_score\n",
    "cross_val_score(clf, X_train, y_train_5, cv=3, scoring=\"accuracy\")"
   ]
  },
  {
   "cell_type": "markdown",
   "id": "55bfcbc8",
   "metadata": {},
   "source": [
    "- <span style=\"color:red\">Over 90% accuracy but if you observe closely you will get that only 10% of the y_train_5 is a 5.</span>\n",
    "- <span style=\"color:red\">So if the model predicts not 5 for everycase then there is 90% chance that the model is correct. Hence we get so much accuracy</span>\n",
    "- **<span style=\"color:red\">This is why we dont use cross_val_score much</span>**"
   ]
  },
  {
   "cell_type": "markdown",
   "id": "3a4a3315",
   "metadata": {},
   "source": [
    "## <div style=\"color:white; background-color:blue; padding:20px; text-align:left; border-radius:10px\">Confusion Matrix</div>"
   ]
  },
  {
   "cell_type": "code",
   "execution_count": 13,
   "id": "8267eca3",
   "metadata": {},
   "outputs": [],
   "source": [
    "from sklearn.model_selection import cross_val_predict\n",
    "y_train_pred = cross_val_predict(clf, X_train, y_train_5, cv=3)"
   ]
  },
  {
   "cell_type": "markdown",
   "id": "eed0e952",
   "metadata": {},
   "source": [
    "- **<span style=\"color:red\">The main moto here is to not touch test set but predict values on the trained dataset with cross_val_predict</span>**"
   ]
  },
  {
   "cell_type": "code",
   "execution_count": 14,
   "id": "c27319fc",
   "metadata": {},
   "outputs": [
    {
     "data": {
      "text/plain": [
       "array([[53892,   687],\n",
       "       [ 1891,  3530]])"
      ]
     },
     "execution_count": 14,
     "metadata": {},
     "output_type": "execute_result"
    }
   ],
   "source": [
    "from sklearn.metrics import confusion_matrix\n",
    "confusion_matrix(y_train_5, y_train_pred)"
   ]
  },
  {
   "cell_type": "markdown",
   "id": "90845cad",
   "metadata": {},
   "source": [
    "- **<span style=\"color:red\">Row = actual class\n",
    "</span>**\n",
    "- **<span style=\"color:red\">column=predicted class</span>**\n",
    "- **<span style=\"color:red\">0 row and 0 column is negative</span>**"
   ]
  },
  {
   "cell_type": "markdown",
   "id": "b06525b8",
   "metadata": {},
   "source": [
    "### <div style=\"color:white; background-color:blue; padding:20px; text-align:left; border-radius:10px\">Precision and Recall</div>\n",
    "\n",
    "- Precision is the accuracy of positive predictions\n",
    "`precision = tp/(tp+fp)`\n",
    "- Recall is the ratio of positive instances that are correctly detected by the classifier\n",
    "`recall = tp / (tp + fn)`"
   ]
  },
  {
   "cell_type": "code",
   "execution_count": 15,
   "id": "82a165bf",
   "metadata": {},
   "outputs": [
    {
     "data": {
      "text/plain": [
       "0.8370879772350012"
      ]
     },
     "execution_count": 15,
     "metadata": {},
     "output_type": "execute_result"
    }
   ],
   "source": [
    "from sklearn.metrics import precision_score, recall_score\n",
    "precision_score(y_train_5, y_train_pred)"
   ]
  },
  {
   "cell_type": "code",
   "execution_count": 16,
   "id": "c5c8cceb",
   "metadata": {},
   "outputs": [
    {
     "data": {
      "text/plain": [
       "0.6511713705958311"
      ]
     },
     "execution_count": 16,
     "metadata": {},
     "output_type": "execute_result"
    }
   ],
   "source": [
    "recall_score(y_train_5, y_train_pred)"
   ]
  },
  {
   "cell_type": "markdown",
   "id": "62a0e8ea",
   "metadata": {},
   "source": [
    "## <div style=\"color:white; background-color:blue; padding:20px; text-align:left; border-radius:10px\">F1 Score</div>\n",
    "- F1 score is the harmonic mean of precision and recall\n",
    "- `f1_score = 2pr/p+r`"
   ]
  },
  {
   "cell_type": "code",
   "execution_count": 17,
   "id": "bc6aa88d",
   "metadata": {},
   "outputs": [
    {
     "data": {
      "text/plain": [
       "0.7325171197343846"
      ]
     },
     "execution_count": 17,
     "metadata": {},
     "output_type": "execute_result"
    }
   ],
   "source": [
    "from sklearn.metrics import f1_score\n",
    "f1_score(y_train_5, y_train_pred)"
   ]
  },
  {
   "cell_type": "markdown",
   "id": "cec4d55a",
   "metadata": {},
   "source": [
    "## <div style=\"color:white; background-color:blue; padding:20px; text-align:left; border-radius:10px\">Precision Recall curve</div>"
   ]
  },
  {
   "cell_type": "code",
   "execution_count": 19,
   "id": "40fe4641",
   "metadata": {},
   "outputs": [],
   "source": [
    "y_scores = cross_val_predict(clf, X_train, y_train_5, cv=3, method=\"decision_function\")"
   ]
  },
  {
   "cell_type": "code",
   "execution_count": 20,
   "id": "1427fa99",
   "metadata": {},
   "outputs": [],
   "source": [
    "from sklearn.metrics import precision_recall_curve\n",
    "\n",
    "precisions, recalls, thresholds = precision_recall_curve(y_train_5, y_scores)"
   ]
  },
  {
   "cell_type": "code",
   "execution_count": 23,
   "id": "eaf2e709",
   "metadata": {},
   "outputs": [
    {
     "data": {
      "image/png": "[encoded data removed]",
      "text/plain": [
       "<Figure size 864x576 with 1 Axes>"
      ]
     },
     "metadata": {
      "needs_background": "light"
     },
     "output_type": "display_data"
    }
   ],
   "source": [
    "def plot_precision_recall_vs_threshold(precisions, recalls, thresholds):\n",
    "    plt.plot(thresholds, precisions[:-1], \"b--\", label=\"Precision\", linewidth=2)\n",
    "    plt.plot(thresholds, recalls[:-1], \"g-\", label=\"Recall\", linewidth=2)\n",
    "    plt.legend(loc=\"center right\", fontsize=16) # Not shown in the book\n",
    "    plt.xlabel(\"Threshold\", fontsize=16)        # Not shown\n",
    "    plt.grid(True)                              # Not shown\n",
    "    plt.axis([-50000, 50000, 0, 1])             # Not shown\n",
    "\n",
    "\n",
    "\n",
    "recall_90_precision = recalls[np.argmax(precisions >= 0.90)]\n",
    "threshold_90_precision = thresholds[np.argmax(precisions >= 0.90)]\n",
    "\n",
    "\n",
    "plt.figure(figsize=(12, 8))                                                                  # Not shown\n",
    "plot_precision_recall_vs_threshold(precisions, recalls, thresholds)\n",
    "plt.plot([threshold_90_precision, threshold_90_precision], [0., 0.9], \"r:\")                 # Not shown\n",
    "plt.plot([-50000, threshold_90_precision], [0.9, 0.9], \"r:\")                                # Not shown\n",
    "plt.plot([-50000, threshold_90_precision], [recall_90_precision, recall_90_precision], \"r:\")# Not shown\n",
    "plt.plot([threshold_90_precision], [0.9], \"ro\")                                             # Not shown\n",
    "plt.plot([threshold_90_precision], [recall_90_precision], \"ro\")                             # Not shown                                            # Not shown\n",
    "plt.show()"
   ]
  },
  {
   "cell_type": "code",
   "execution_count": 25,
   "id": "22ae8ada",
   "metadata": {},
   "outputs": [
    {
     "data": {
      "image/png": "[encoded data removed]",
      "text/plain": [
       "<Figure size 864x576 with 1 Axes>"
      ]
     },
     "metadata": {
      "needs_background": "light"
     },
     "output_type": "display_data"
    }
   ],
   "source": [
    "def plot_precision_vs_recall(precisions, recalls):\n",
    "    plt.plot(recalls, precisions, \"b-\", linewidth=2)\n",
    "    plt.xlabel(\"Recall\", fontsize=16)\n",
    "    plt.ylabel(\"Precision\", fontsize=16)\n",
    "    plt.axis([0, 1, 0, 1])\n",
    "    plt.grid(True)\n",
    "\n",
    "plt.figure(figsize=(12, 8))\n",
    "plot_precision_vs_recall(precisions, recalls)\n",
    "plt.plot([recall_90_precision, recall_90_precision], [0., 0.9], \"r:\")\n",
    "plt.plot([0.0, recall_90_precision], [0.9, 0.9], \"r:\")\n",
    "plt.plot([recall_90_precision], [0.9], \"ro\")\n",
    "plt.show()"
   ]
  },
  {
   "cell_type": "markdown",
   "id": "2104c401",
   "metadata": {},
   "source": [
    "## <div style=\"color:white; background-color:blue; padding:20px; text-align:left; border-radius:10px\">The ROC Curve</div>"
   ]
  },
  {
   "cell_type": "code",
   "execution_count": 26,
   "id": "cd662f7e",
   "metadata": {},
   "outputs": [],
   "source": [
    "from sklearn.metrics import roc_curve\n",
    "\n",
    "fpr, tpr, thresholds = roc_curve(y_train_5, y_scores)"
   ]
  },
  {
   "cell_type": "code",
   "execution_count": 28,
   "id": "58dd1a36",
   "metadata": {},
   "outputs": [
    {
     "data": {
      "image/png": "[encoded data removed]",
      "text/plain": [
       "<Figure size 864x576 with 1 Axes>"
      ]
     },
     "metadata": {
      "needs_background": "light"
     },
     "output_type": "display_data"
    }
   ],
   "source": [
    "def plot_roc_curve(fpr, tpr, label=None):\n",
    "    plt.plot(fpr, tpr, linewidth=2, label=label)\n",
    "    plt.plot([0, 1], [0, 1], 'k--') # dashed diagonal\n",
    "    plt.axis([0, 1, 0, 1])                                    # Not shown in the book\n",
    "    plt.xlabel('False Positive Rate (Fall-Out)', fontsize=16) # Not shown\n",
    "    plt.ylabel('True Positive Rate (Recall)', fontsize=16)    # Not shown\n",
    "    plt.grid(True)                                            # Not shown\n",
    "\n",
    "plt.figure(figsize=(12, 8))                                    # Not shown\n",
    "plot_roc_curve(fpr, tpr)\n",
    "fpr_90 = fpr[np.argmax(tpr >= recall_90_precision)]           # Not shown\n",
    "plt.plot([fpr_90, fpr_90], [0., recall_90_precision], \"r:\")   # Not shown\n",
    "plt.plot([0.0, fpr_90], [recall_90_precision, recall_90_precision], \"r:\")  # Not shown\n",
    "plt.plot([fpr_90], [recall_90_precision], \"ro\")               # Not shown                                   # Not shown\n",
    "plt.show()"
   ]
  },
  {
   "cell_type": "markdown",
   "id": "b4d2899e",
   "metadata": {},
   "source": [
    "## <div style=\"color:white; background-color:blue; padding:20px; text-align:left; border-radius:10px\">Compare classifiers using roc auc curve</div>"
   ]
  },
  {
   "cell_type": "code",
   "execution_count": 29,
   "id": "a98277bb",
   "metadata": {},
   "outputs": [
    {
     "data": {
      "text/plain": [
       "0.9604938554008616"
      ]
     },
     "execution_count": 29,
     "metadata": {},
     "output_type": "execute_result"
    }
   ],
   "source": [
    "from sklearn.metrics import roc_auc_score\n",
    "roc_auc_score(y_train_5, y_scores)"
   ]
  },
  {
   "cell_type": "markdown",
   "id": "8e130da1",
   "metadata": {},
   "source": [
    "## <div style=\"color:white; background-color:blue; padding:20px; text-align:left; border-radius:10px\">Doing same now with random forest classifier</div>"
   ]
  },
  {
   "cell_type": "code",
   "execution_count": 30,
   "id": "a9c0fa56",
   "metadata": {},
   "outputs": [],
   "source": [
    "from sklearn.ensemble import RandomForestClassifier\n",
    "forest_clf = RandomForestClassifier(n_estimators=100, random_state=42)\n",
    "y_probas_forest = cross_val_predict(forest_clf, X_train, y_train_5, cv=3,\n",
    "                                    method=\"predict_proba\")"
   ]
  },
  {
   "cell_type": "code",
   "execution_count": 31,
   "id": "af3f00ca",
   "metadata": {},
   "outputs": [],
   "source": [
    "y_scores_forest = y_probas_forest[:, 1]\n",
    "fpr_forest, tpr_forest, thresholds_forest = roc_curve(y_train_5,y_scores_forest)"
   ]
  },
  {
   "cell_type": "code",
   "execution_count": 33,
   "id": "d33acf86",
   "metadata": {},
   "outputs": [
    {
     "data": {
      "image/png": "[encoded data removed]",
      "text/plain": [
       "<Figure size 864x576 with 1 Axes>"
      ]
     },
     "metadata": {
      "needs_background": "light"
     },
     "output_type": "display_data"
    }
   ],
   "source": [
    "recall_for_forest = tpr_forest[np.argmax(fpr_forest >= fpr_90)]\n",
    "\n",
    "plt.figure(figsize=(12, 8))\n",
    "plt.plot(fpr, tpr, \"b:\", linewidth=2, label=\"SGD\")\n",
    "plot_roc_curve(fpr_forest, tpr_forest, \"Random Forest\")\n",
    "plt.plot([fpr_90, fpr_90], [0., recall_90_precision], \"r:\")\n",
    "plt.plot([0.0, fpr_90], [recall_90_precision, recall_90_precision], \"r:\")\n",
    "plt.plot([fpr_90], [recall_90_precision], \"ro\")\n",
    "plt.plot([fpr_90, fpr_90], [0., recall_for_forest], \"r:\")\n",
    "plt.plot([fpr_90], [recall_for_forest], \"ro\")\n",
    "plt.grid(True)\n",
    "plt.legend(loc=\"lower right\", fontsize=16)\n",
    "plt.show()"
   ]
  },
  {
   "cell_type": "code",
   "execution_count": 34,
   "id": "1c5ec623",
   "metadata": {},
   "outputs": [
    {
     "data": {
      "text/plain": [
       "0.9983436731328145"
      ]
     },
     "execution_count": 34,
     "metadata": {},
     "output_type": "execute_result"
    }
   ],
   "source": [
    "roc_auc_score(y_train_5, y_scores_forest)"
   ]
  },
  {
   "cell_type": "code",
   "execution_count": 35,
   "id": "8c0abb8c",
   "metadata": {},
   "outputs": [
    {
     "data": {
      "text/plain": [
       "0.9905083315756169"
      ]
     },
     "execution_count": 35,
     "metadata": {},
     "output_type": "execute_result"
    }
   ],
   "source": [
    "y_train_pred_forest = cross_val_predict(forest_clf, X_train, y_train_5, cv=3)\n",
    "precision_score(y_train_5, y_train_pred_forest)"
   ]
  },
  {
   "cell_type": "code",
   "execution_count": 36,
   "id": "8301dfef",
   "metadata": {},
   "outputs": [
    {
     "data": {
      "text/plain": [
       "0.8662608374838591"
      ]
     },
     "execution_count": 36,
     "metadata": {},
     "output_type": "execute_result"
    }
   ],
   "source": [
    "recall_score(y_train_5, y_train_pred_forest)"
   ]
  },
  {
   "cell_type": "markdown",
   "id": "3d6f9241",
   "metadata": {},
   "source": [
    "## <div style=\"color:white; background-color:blue; padding:20px; text-align:left; border-radius:10px\">Multiclass Classification</div>"
   ]
  },
  {
   "cell_type": "code",
   "execution_count": 38,
   "id": "d92c6d2d",
   "metadata": {},
   "outputs": [
    {
     "data": {
      "text/plain": [
       "array([3])"
      ]
     },
     "execution_count": 38,
     "metadata": {},
     "output_type": "execute_result"
    }
   ],
   "source": [
    "%%time\n",
    "# training on all ten classes i.e performing binary classification one vs all strategy\n",
    "clf.fit(X_train, y_train)\n",
    "clf.predict([some_digit]) # it was a 5"
   ]
  },
  {
   "cell_type": "code",
   "execution_count": 39,
   "id": "951f7e88",
   "metadata": {},
   "outputs": [
    {
     "name": "stdout",
     "output_type": "stream",
     "text": [
      "CPU times: user 23.3 s, sys: 151 ms, total: 23.4 s\n",
      "Wall time: 23.4 s\n"
     ]
    },
    {
     "data": {
      "text/plain": [
       "RandomForestClassifier(random_state=42)"
      ]
     },
     "execution_count": 39,
     "metadata": {},
     "output_type": "execute_result"
    }
   ],
   "source": [
    "%%time\n",
    "forest_clf.fit(X_train, y_train)"
   ]
  },
  {
   "cell_type": "code",
   "execution_count": 40,
   "id": "dad27931",
   "metadata": {},
   "outputs": [
    {
     "data": {
      "text/plain": [
       "array([5])"
      ]
     },
     "execution_count": 40,
     "metadata": {},
     "output_type": "execute_result"
    }
   ],
   "source": [
    "forest_clf.predict([some_digit])"
   ]
  },
  {
   "cell_type": "code",
   "execution_count": 41,
   "id": "c9edf32f",
   "metadata": {},
   "outputs": [
    {
     "data": {
      "text/plain": [
       "array([[0.  , 0.  , 0.01, 0.08, 0.  , 0.9 , 0.  , 0.  , 0.  , 0.01]])"
      ]
     },
     "execution_count": 41,
     "metadata": {},
     "output_type": "execute_result"
    }
   ],
   "source": [
    "forest_clf.predict_proba([some_digit])"
   ]
  },
  {
   "cell_type": "code",
   "execution_count": 42,
   "id": "5dc50904",
   "metadata": {},
   "outputs": [
    {
     "name": "stdout",
     "output_type": "stream",
     "text": [
      "CPU times: user 2min 54s, sys: 1.71 s, total: 2min 55s\n",
      "Wall time: 2min 52s\n"
     ]
    },
    {
     "data": {
      "text/plain": [
       "array([0.87365, 0.85835, 0.8689 ])"
      ]
     },
     "execution_count": 42,
     "metadata": {},
     "output_type": "execute_result"
    }
   ],
   "source": [
    "%%time\n",
    "# cross validation score on sgd classifier\n",
    "cross_val_score(clf, X_train, y_train, cv=3, scoring=\"accuracy\")"
   ]
  },
  {
   "cell_type": "markdown",
   "id": "61817d14",
   "metadata": {},
   "source": [
    "### Scaling the inputs\n"
   ]
  },
  {
   "cell_type": "code",
   "execution_count": 43,
   "id": "27b191e1",
   "metadata": {},
   "outputs": [],
   "source": [
    "from sklearn.preprocessing import StandardScaler\n",
    "scaler = StandardScaler()\n",
    "X_train_scaled = scaler.fit_transform(X_train.astype(float))"
   ]
  },
  {
   "cell_type": "markdown",
   "id": "7f421199",
   "metadata": {},
   "source": [
    "## <div style=\"color:white; background-color:blue; padding:20px; text-align:left; border-radius:10px\">Error Analysis</div>"
   ]
  },
  {
   "cell_type": "code",
   "execution_count": 44,
   "id": "1a143cca",
   "metadata": {},
   "outputs": [
    {
     "name": "stdout",
     "output_type": "stream",
     "text": [
      "CPU times: user 7min 47s, sys: 2.94 s, total: 7min 50s\n",
      "Wall time: 7min 47s\n"
     ]
    }
   ],
   "source": [
    "%%time\n",
    "y_train_pred = cross_val_predict(clf, X_train_scaled, y_train, cv=3)"
   ]
  },
  {
   "cell_type": "code",
   "execution_count": 45,
   "id": "9aeb2dbe",
   "metadata": {},
   "outputs": [
    {
     "data": {
      "text/plain": [
       "array([[5577,    0,   22,    5,    8,   43,   36,    6,  225,    1],\n",
       "       [   0, 6400,   37,   24,    4,   44,    4,    7,  212,   10],\n",
       "       [  27,   27, 5220,   92,   73,   27,   67,   36,  378,   11],\n",
       "       [  22,   17,  117, 5227,    2,  203,   27,   40,  403,   73],\n",
       "       [  12,   14,   41,    9, 5182,   12,   34,   27,  347,  164],\n",
       "       [  27,   15,   30,  168,   53, 4444,   75,   14,  535,   60],\n",
       "       [  30,   15,   42,    3,   44,   97, 5552,    3,  131,    1],\n",
       "       [  21,   10,   51,   30,   49,   12,    3, 5684,  195,  210],\n",
       "       [  17,   63,   48,   86,    3,  126,   25,   10, 5429,   44],\n",
       "       [  25,   18,   30,   64,  118,   36,    1,  179,  371, 5107]])"
      ]
     },
     "execution_count": 45,
     "metadata": {},
     "output_type": "execute_result"
    }
   ],
   "source": [
    "cm = confusion_matrix(y_train, y_train_pred)\n",
    "cm"
   ]
  }
 ],
 "metadata": {
  "kernelspec": {
   "display_name": "Python 3 (ipykernel)",
   "language": "python",
   "name": "python3"
  },
  "language_info": {
   "codemirror_mode": {
    "name": "ipython",
    "version": 3
   },
   "file_extension": ".py",
   "mimetype": "text/x-python",
   "name": "python",
   "nbconvert_exporter": "python",
   "pygments_lexer": "ipython3",
   "version": "3.9.10"
  }
 },
 "nbformat": 4,
 "nbformat_minor": 5
}
