{
  "nbformat": 4,
  "nbformat_minor": 0,
  "metadata": {
    "colab": {
      "name": "Intro to Tensorflow.ipynb",
      "provenance": [],
      "collapsed_sections": []
    },
    "kernelspec": {
      "name": "python3",
      "display_name": "Python 3"
    },
    "language_info": {
      "name": "python"
    }
  },
  "cells": [
    {
      "cell_type": "markdown",
      "source": [
        "# Importing Tensorflow version"
      ],
      "metadata": {
        "id": "uH0WzZagfjTr"
      }
    },
    {
      "cell_type": "code",
      "execution_count": 3,
      "metadata": {
        "id": "bo7VQzJHfB-e"
      },
      "outputs": [],
      "source": [
        "%tensorflow_version 2.x"
      ]
    },
    {
      "cell_type": "code",
      "source": [
        "import tensorflow as tf\n",
        "print(tf.version)"
      ],
      "metadata": {
        "colab": {
          "base_uri": "https://localhost:8080/"
        },
        "id": "kmbV0WS5f708",
        "outputId": "681acb3d-ab0b-4375-8320-7d767e88a0c1"
      },
      "execution_count": 6,
      "outputs": [
        {
          "output_type": "stream",
          "name": "stdout",
          "text": [
            "<module 'tensorflow._api.v2.version' from '/usr/local/lib/python3.7/dist-packages/tensorflow/_api/v2/version/__init__.py'>\n"
          ]
        }
      ]
    },
    {
      "cell_type": "markdown",
      "source": [
        "# Creating Tensors"
      ],
      "metadata": {
        "id": "KvJ6r5fOjr0S"
      }
    },
    {
      "cell_type": "code",
      "source": [
        "string = tf.Variable(\"This is a string\", tf.string)\n",
        "number = tf.Variable(324, tf.int16)\n",
        "floating = tf.Variable(3.14, tf.float64)"
      ],
      "metadata": {
        "id": "lW48ggW8gZFA"
      },
      "execution_count": 7,
      "outputs": []
    },
    {
      "cell_type": "markdown",
      "source": [
        "# Rank/Degree of Tensors"
      ],
      "metadata": {
        "id": "Px3A8jS3kKcd"
      }
    },
    {
      "cell_type": "code",
      "source": [
        "rank1_tensor = tf.Variable([\"Test\"], tf.string)\n",
        "rank2_tensor = tf.Variable([\n",
        "                           [\"test\"], \n",
        "                           [\"ok\"]\n",
        "                          ], tf.string)"
      ],
      "metadata": {
        "id": "9_k1QqrkkJwu"
      },
      "execution_count": 14,
      "outputs": []
    },
    {
      "cell_type": "code",
      "source": [
        "tf.rank(rank1_tensor)"
      ],
      "metadata": {
        "colab": {
          "base_uri": "https://localhost:8080/"
        },
        "id": "6BWS37rLkx8o",
        "outputId": "f79ddf9f-78fb-419b-c535-0cf5ef063610"
      },
      "execution_count": 15,
      "outputs": [
        {
          "output_type": "execute_result",
          "data": {
            "text/plain": [
              "<tf.Tensor: shape=(), dtype=int32, numpy=1>"
            ]
          },
          "metadata": {},
          "execution_count": 15
        }
      ]
    },
    {
      "cell_type": "code",
      "source": [
        "tf.rank(rank2_tensor)"
      ],
      "metadata": {
        "colab": {
          "base_uri": "https://localhost:8080/"
        },
        "id": "HsrsEfC_k248",
        "outputId": "ba8864d7-5a51-4646-a928-c4a7834d8254"
      },
      "execution_count": 16,
      "outputs": [
        {
          "output_type": "execute_result",
          "data": {
            "text/plain": [
              "<tf.Tensor: shape=(), dtype=int32, numpy=2>"
            ]
          },
          "metadata": {},
          "execution_count": 16
        }
      ]
    },
    {
      "cell_type": "markdown",
      "source": [
        "# Shape of tensors"
      ],
      "metadata": {
        "id": "mCNXbCK0lBtk"
      }
    },
    {
      "cell_type": "code",
      "source": [
        "rank2_tensor.shape"
      ],
      "metadata": {
        "colab": {
          "base_uri": "https://localhost:8080/"
        },
        "id": "BH807Z7Qk5_E",
        "outputId": "d01e47e2-c461-48f6-89d3-ca11f9adba95"
      },
      "execution_count": 13,
      "outputs": [
        {
          "output_type": "execute_result",
          "data": {
            "text/plain": [
              "TensorShape([2, 2])"
            ]
          },
          "metadata": {},
          "execution_count": 13
        }
      ]
    },
    {
      "cell_type": "markdown",
      "source": [
        "It tells us that there are 2 lists (first 2) and in each list there are 2 elements"
      ],
      "metadata": {
        "id": "JzXezUwelV4E"
      }
    },
    {
      "cell_type": "code",
      "source": [
        "rank2_tensor1 = tf.Variable([\n",
        "                             [\"Test1\"],\n",
        "                             [\"Test2\"]\n",
        "                            ], tf.string)"
      ],
      "metadata": {
        "id": "6STrFjhSlq6X"
      },
      "execution_count": 17,
      "outputs": []
    },
    {
      "cell_type": "markdown",
      "source": [
        "This has rank 2 and shape as [2, 1]"
      ],
      "metadata": {
        "id": "eNvF7FDjl--i"
      }
    },
    {
      "cell_type": "code",
      "source": [
        "rank2_tensor1.shape"
      ],
      "metadata": {
        "colab": {
          "base_uri": "https://localhost:8080/"
        },
        "id": "3zOPwn1PlU1o",
        "outputId": "759686d1-93ec-400f-cb33-15cc81ef323b"
      },
      "execution_count": 18,
      "outputs": [
        {
          "output_type": "execute_result",
          "data": {
            "text/plain": [
              "TensorShape([2, 1])"
            ]
          },
          "metadata": {},
          "execution_count": 18
        }
      ]
    },
    {
      "cell_type": "code",
      "source": [
        "rank2_tensor_3 = tf.Variable([\n",
        "                              [\"Test1\", \"Test2\", \"Test3\"],\n",
        "                              [\"Ok1\", \"ok2\", \"ok3\"]\n",
        "], tf.string)"
      ],
      "metadata": {
        "id": "nNkCSwYtmFmH"
      },
      "execution_count": 19,
      "outputs": []
    },
    {
      "cell_type": "code",
      "source": [
        "rank2_tensor_3.shape"
      ],
      "metadata": {
        "colab": {
          "base_uri": "https://localhost:8080/"
        },
        "id": "CRBRKSLomVc_",
        "outputId": "560c826e-db4c-4899-ff47-e51b5afa0b3b"
      },
      "execution_count": 20,
      "outputs": [
        {
          "output_type": "execute_result",
          "data": {
            "text/plain": [
              "TensorShape([2, 3])"
            ]
          },
          "metadata": {},
          "execution_count": 20
        }
      ]
    },
    {
      "cell_type": "markdown",
      "source": [
        "# Changing Shape"
      ],
      "metadata": {
        "id": "Wix4pl2VmchD"
      }
    },
    {
      "cell_type": "code",
      "source": [
        "# it has one list, inside that list it will have 2 lists, and in each of the 2 lists we will have 3 elements,  in this case 1\n",
        "tensor1 = tf.ones([1, 2, 3]) # total elements 1*2*3 = 6\n",
        "tensor2 = tf.reshape(tensor1, [2, 3, 1])\n",
        "tensor3 = tf.reshape(tensor2, [3, -1]) # 3 lists and remaining elements that is 6// 3 which is 2 1's in each list"
      ],
      "metadata": {
        "id": "UcMtp7UEmYVA"
      },
      "execution_count": 23,
      "outputs": []
    },
    {
      "cell_type": "code",
      "source": [
        "print(tensor1)\n",
        "print(tensor2)\n",
        "print(tensor3)"
      ],
      "metadata": {
        "colab": {
          "base_uri": "https://localhost:8080/"
        },
        "id": "8_7tLC8BnYue",
        "outputId": "0dba9837-4815-49e2-8b25-f97cd7a8387a"
      },
      "execution_count": 22,
      "outputs": [
        {
          "output_type": "stream",
          "name": "stdout",
          "text": [
            "tf.Tensor(\n",
            "[[[1. 1. 1.]\n",
            "  [1. 1. 1.]]], shape=(1, 2, 3), dtype=float32)\n",
            "tf.Tensor(\n",
            "[[[1.]\n",
            "  [1.]\n",
            "  [1.]]\n",
            "\n",
            " [[1.]\n",
            "  [1.]\n",
            "  [1.]]], shape=(2, 3, 1), dtype=float32)\n",
            "tf.Tensor(\n",
            "[[1. 1.]\n",
            " [1. 1.]\n",
            " [1. 1.]], shape=(3, 2), dtype=float32)\n"
          ]
        }
      ]
    },
    {
      "cell_type": "markdown",
      "source": [
        "# Types of Tensors\n",
        "- Variable\n",
        "- Constant\n",
        "- Placeholder\n",
        "- Session\n",
        "\n",
        "Only Variable is mutable others are immutable"
      ],
      "metadata": {
        "id": "C_ACs4pLn77s"
      }
    },
    {
      "cell_type": "markdown",
      "source": [
        "# Evaluation tensors\n",
        "- No need of Session in version 2 but we can access it through compat.v1.Session.\n",
        "- we can directly use tf.function() as shown below\n",
        "Difference read here\n",
        "https://stackoverflow.com/questions/55142951/tensorflow-2-0-attributeerror-module-tensorflow-has-no-attribute-session"
      ],
      "metadata": {
        "id": "e5ShmYPboXe3"
      }
    },
    {
      "cell_type": "code",
      "source": [
        "with tf.compat.v1.Session() as sess:\n",
        "  # tensor1.eval()\n",
        "  pass"
      ],
      "metadata": {
        "id": "Tvz7kAZIndLA"
      },
      "execution_count": 25,
      "outputs": []
    },
    {
      "cell_type": "code",
      "source": [
        "# Using just function\n",
        "msg = tf.constant('Hello, TensorFlow!')\n",
        "tf.print(msg)"
      ],
      "metadata": {
        "colab": {
          "base_uri": "https://localhost:8080/"
        },
        "id": "u3G5uD9OoyGB",
        "outputId": "c04be6d4-1fc2-4a7e-f157-9a92f4d3347c"
      },
      "execution_count": 26,
      "outputs": [
        {
          "output_type": "stream",
          "name": "stdout",
          "text": [
            "Hello, TensorFlow!\n"
          ]
        }
      ]
    }
  ]
}